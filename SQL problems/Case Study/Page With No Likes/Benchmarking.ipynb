{
 "cells": [
  {
   "cell_type": "code",
   "execution_count": 13,
   "id": "1e2718bc",
   "metadata": {},
   "outputs": [],
   "source": [
    "import random\n",
    "from datetime import datetime"
   ]
  },
  {
   "cell_type": "code",
   "execution_count": 14,
   "id": "cbfdd41e",
   "metadata": {},
   "outputs": [],
   "source": [
    "import boto3\n",
    "from botocore.exceptions import ClientError\n",
    "import psycopg2\n",
    "import json\n",
    "from pprint import pprint"
   ]
  },
  {
   "cell_type": "code",
   "execution_count": 15,
   "id": "c2fd1000",
   "metadata": {},
   "outputs": [],
   "source": [
    "def get_secret():\n",
    "\n",
    "    secret_name = \"rds!db-*************************\"\n",
    "    region_name = \"us-east-1\"\n",
    "\n",
    "    # Create a Secrets Manager client\n",
    "    session = boto3.session.Session()\n",
    "    client = session.client(\n",
    "        service_name='secretsmanager',\n",
    "        region_name=region_name\n",
    "    )\n",
    "\n",
    "    try:\n",
    "        get_secret_value_response = client.get_secret_value(\n",
    "            SecretId=secret_name\n",
    "        )\n",
    "    except ClientError as e:\n",
    "        # For a list of exceptions thrown, see\n",
    "        # https://docs.aws.amazon.com/secretsmanager/latest/apireference/API_GetSecretValue.html\n",
    "        raise e\n",
    "\n",
    "    secret = get_secret_value_response['SecretString']\n",
    "    return secret"
   ]
  },
  {
   "cell_type": "code",
   "execution_count": 16,
   "id": "e86f9509",
   "metadata": {},
   "outputs": [],
   "source": [
    "\n",
    "password = json.loads(get_secret())\n",
    "connection = psycopg2.connect( user=\"postgres\", password=password['password'], host=\"database-1.*************.rds.amazonaws.com\", port=5432)\n",
    "\n",
    "cursor = connection.cursor()"
   ]
  },
  {
   "cell_type": "code",
   "execution_count": null,
   "id": "42fb0504",
   "metadata": {},
   "outputs": [],
   "source": []
  },
  {
   "cell_type": "code",
   "execution_count": 5,
   "id": "c2bb9c5d",
   "metadata": {},
   "outputs": [],
   "source": [
    "pages_table = \"\"\"\n",
    "create table if not exists pages (\n",
    "page_id int not null primary key,\n",
    "page_name varchar(20))\n",
    "\"\"\"\n",
    "\n",
    "\n",
    "page_likes = \"\"\"\n",
    "create table if not exists page_likes (\n",
    "user_id int not null,\n",
    "page_id int not null\n",
    ")\"\"\"\n",
    "\n",
    "index_query = \"\"\" CREATE INDEX page_likes_page_id ON page_likes (page_id); \"\"\"\n",
    "\n"
   ]
  },
  {
   "cell_type": "code",
   "execution_count": null,
   "id": "c488cc9a",
   "metadata": {},
   "outputs": [],
   "source": []
  },
  {
   "cell_type": "code",
   "execution_count": 6,
   "id": "b0a67ac4",
   "metadata": {},
   "outputs": [
    {
     "name": "stdout",
     "output_type": "stream",
     "text": [
      "(183934974,)\n",
      "0:14:12.606339\n"
     ]
    }
   ],
   "source": [
    "solution = \"\"\"SELECT count(*)\n",
    "from (\n",
    "select page_id\n",
    "FROM pages\n",
    "EXCEPT\n",
    "SELECT page_id\n",
    "FROM page_likes); \"\"\"\n",
    "\n",
    "start_time = datetime.now()\n",
    "cursor.execute(solution)\n",
    "for i in cursor.fetchall():\n",
    "    print(i)\n",
    "end_time = datetime.now()\n",
    "print(end_time-start_time)"
   ]
  },
  {
   "cell_type": "code",
   "execution_count": null,
   "id": "e8039458",
   "metadata": {},
   "outputs": [],
   "source": []
  },
  {
   "cell_type": "code",
   "execution_count": 7,
   "id": "208a0c78",
   "metadata": {},
   "outputs": [
    {
     "name": "stdout",
     "output_type": "stream",
     "text": [
      "(183934974,)\n",
      "0:03:44.442546\n"
     ]
    }
   ],
   "source": [
    "solution = \"\"\"select count(*) from (\n",
    "SELECT pages.page_id\n",
    "FROM pages left join page_likes\n",
    "on pages.page_id = page_likes.page_id\n",
    "where page_likes.page_id is null)\n",
    "\n",
    "; \"\"\"\n",
    "\n",
    "\n",
    "start_time = datetime.now()\n",
    "cursor.execute(solution)\n",
    "for i in cursor.fetchall():\n",
    "    print(i)\n",
    "end_time = datetime.now()\n",
    "print(end_time-start_time)"
   ]
  },
  {
   "cell_type": "code",
   "execution_count": null,
   "id": "409dad75",
   "metadata": {},
   "outputs": [],
   "source": []
  },
  {
   "cell_type": "code",
   "execution_count": 8,
   "id": "71816ff2",
   "metadata": {},
   "outputs": [
    {
     "name": "stdout",
     "output_type": "stream",
     "text": [
      "(183934974,)\n",
      "0:03:45.634451\n"
     ]
    }
   ],
   "source": [
    "solution = \"\"\"select count(*) from \n",
    "(SELECT pages.page_id\n",
    "FROM pages \n",
    "where not exists (select 1 from page_likes\n",
    "                           where page_likes.page_id = pages.page_id)\n",
    "                           )\n",
    "; \"\"\"\n",
    "\n",
    "\n",
    "start_time = datetime.now()\n",
    "cursor.execute(solution)\n",
    "for i in cursor.fetchall():\n",
    "    print(i)\n",
    "end_time = datetime.now()\n",
    "print(end_time-start_time)"
   ]
  },
  {
   "cell_type": "code",
   "execution_count": null,
   "id": "8d957f67",
   "metadata": {},
   "outputs": [],
   "source": []
  },
  {
   "cell_type": "code",
   "execution_count": 9,
   "id": "670918f9",
   "metadata": {},
   "outputs": [
    {
     "name": "stdout",
     "output_type": "stream",
     "text": [
      "(183934974,)\n",
      "0:03:45.440492\n"
     ]
    }
   ],
   "source": [
    "solution = \"\"\"select count(*) from (\n",
    "SELECT pages.page_id\n",
    "FROM pages \n",
    "where not exists (select 1 from page_likes\n",
    "                           where page_likes.page_id = pages.page_id\n",
    "                           limit 1))\n",
    "; \"\"\"\n",
    "\n",
    "start_time = datetime.now()\n",
    "cursor.execute(solution)\n",
    "for i in cursor.fetchall():\n",
    "    print(i)\n",
    "end_time = datetime.now()\n",
    "print(end_time-start_time)"
   ]
  },
  {
   "cell_type": "code",
   "execution_count": 18,
   "id": "494398a2",
   "metadata": {},
   "outputs": [
    {
     "ename": "OperationalError",
     "evalue": "SSL connection has been closed unexpectedly\n",
     "output_type": "error",
     "traceback": [
      "\u001b[1;31m---------------------------------------------------------------------------\u001b[0m",
      "\u001b[1;31mOperationalError\u001b[0m                          Traceback (most recent call last)",
      "Cell \u001b[1;32mIn[18], line 9\u001b[0m\n\u001b[0;32m      1\u001b[0m solution \u001b[38;5;241m=\u001b[39m \u001b[38;5;124m\"\"\"\u001b[39m\u001b[38;5;124mselect count(*) from (SELECT page_id\u001b[39m\n\u001b[0;32m      2\u001b[0m \u001b[38;5;124mFROM pages\u001b[39m\n\u001b[0;32m      3\u001b[0m \u001b[38;5;124mwhere page_id not in (SELECT page_id\u001b[39m\n\u001b[0;32m      4\u001b[0m \u001b[38;5;124mFROM page_likes))\u001b[39m\n\u001b[0;32m      5\u001b[0m \u001b[38;5;124m; \u001b[39m\u001b[38;5;124m\"\"\"\u001b[39m\n\u001b[0;32m      8\u001b[0m start_time \u001b[38;5;241m=\u001b[39m datetime\u001b[38;5;241m.\u001b[39mnow()\n\u001b[1;32m----> 9\u001b[0m \u001b[43mcursor\u001b[49m\u001b[38;5;241;43m.\u001b[39;49m\u001b[43mexecute\u001b[49m\u001b[43m(\u001b[49m\u001b[43msolution\u001b[49m\u001b[43m)\u001b[49m\n\u001b[0;32m     10\u001b[0m \u001b[38;5;28;01mfor\u001b[39;00m i \u001b[38;5;129;01min\u001b[39;00m cursor\u001b[38;5;241m.\u001b[39mfetchall():\n\u001b[0;32m     11\u001b[0m     \u001b[38;5;28mprint\u001b[39m(i)\n",
      "\u001b[1;31mOperationalError\u001b[0m: SSL connection has been closed unexpectedly\n"
     ]
    }
   ],
   "source": [
    "solution = \"\"\"select count(*) from (SELECT page_id\n",
    "FROM pages\n",
    "where page_id not in (SELECT page_id\n",
    "FROM page_likes))\n",
    "; \"\"\"\n",
    "\n",
    "\n",
    "start_time = datetime.now()\n",
    "cursor.execute(solution)\n",
    "for i in cursor.fetchall():\n",
    "    print(i)\n",
    "end_time = datetime.now()\n",
    "print(end_time-start_time)"
   ]
  },
  {
   "cell_type": "code",
   "execution_count": 12,
   "id": "1603a0b4",
   "metadata": {},
   "outputs": [],
   "source": [
    "connection.close()"
   ]
  },
  {
   "cell_type": "code",
   "execution_count": null,
   "id": "35940409",
   "metadata": {},
   "outputs": [],
   "source": []
  }
 ],
 "metadata": {
  "kernelspec": {
   "display_name": "Python 3 (ipykernel)",
   "language": "python",
   "name": "python3"
  },
  "language_info": {
   "codemirror_mode": {
    "name": "ipython",
    "version": 3
   },
   "file_extension": ".py",
   "mimetype": "text/x-python",
   "name": "python",
   "nbconvert_exporter": "python",
   "pygments_lexer": "ipython3",
   "version": "3.10.9"
  }
 },
 "nbformat": 4,
 "nbformat_minor": 5
}
