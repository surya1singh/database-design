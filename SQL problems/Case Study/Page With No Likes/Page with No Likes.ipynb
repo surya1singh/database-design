{
 "cells": [
  {
   "cell_type": "code",
   "execution_count": 1,
   "id": "17b2cbd7",
   "metadata": {},
   "outputs": [],
   "source": [
    "import sqlite3\n",
    "import random"
   ]
  },
  {
   "cell_type": "code",
   "execution_count": 2,
   "id": "8bfa8d54",
   "metadata": {},
   "outputs": [],
   "source": [
    "conn = sqlite3.connect('example.db')"
   ]
  },
  {
   "cell_type": "code",
   "execution_count": 3,
   "id": "7fa49fc7",
   "metadata": {},
   "outputs": [],
   "source": [
    "cursor = conn.cursor()"
   ]
  },
  {
   "cell_type": "code",
   "execution_count": 4,
   "id": "b135cbb9",
   "metadata": {},
   "outputs": [],
   "source": [
    "pages_table_with_index = \"\"\"\n",
    "create table if not exists pages (\n",
    "page_id int not null primary key,\n",
    "page_name varchar(20))\n",
    "\"\"\"\n",
    "\n",
    "\n",
    "pages_table_without_index = \"\"\"\n",
    "create table if not exists pages_without_index (\n",
    "page_id int not null,\n",
    "page_name varchar(20))\n",
    "\"\"\"\n",
    "\n",
    "page_likes = \"\"\"\n",
    "create table if not exists page_likes (\n",
    "user_id int not null,\n",
    "page_id int not null\n",
    ")\"\"\"\n",
    "\n",
    "index_query = \"\"\" CREATE INDEX page_likes_page_id ON page_likes (page_id); \"\"\"\n",
    "\n",
    "\n",
    "page_likes_without_index = \"\"\"\n",
    "create table if not exists page_likes_without_index (\n",
    "user_id int not null,\n",
    "page_id int not null\n",
    ")\"\"\""
   ]
  },
  {
   "cell_type": "code",
   "execution_count": 5,
   "id": "164b1d5e",
   "metadata": {},
   "outputs": [
    {
     "data": {
      "text/plain": [
       "<sqlite3.Cursor at 0x281ca0b2240>"
      ]
     },
     "execution_count": 5,
     "metadata": {},
     "output_type": "execute_result"
    }
   ],
   "source": [
    "cursor.execute(pages_table_with_index)\n",
    "cursor.execute(pages_table_without_index)\n",
    "cursor.execute(page_likes)\n",
    "cursor.execute(index_query)\n",
    "cursor.execute(page_likes_without_index)"
   ]
  },
  {
   "cell_type": "code",
   "execution_count": 6,
   "id": "27fe6a9c",
   "metadata": {},
   "outputs": [],
   "source": [
    "conn.commit()"
   ]
  },
  {
   "cell_type": "code",
   "execution_count": 7,
   "id": "e5af2808",
   "metadata": {},
   "outputs": [],
   "source": [
    "for i in range(1, 10):\n",
    "    insert_pages = f\"insert into pages values ({i}, 'page_name')\"\n",
    "    cursor.execute(insert_pages)\n",
    "conn.commit()\n",
    "\n",
    "for i in range(10):\n",
    "    insert_page_likes = f\"insert into page_likes values ({random.randint(1,100)},{random.randint(1,10)})\"\n",
    "    cursor.execute(insert_page_likes)\n",
    "conn.commit()"
   ]
  },
  {
   "cell_type": "code",
   "execution_count": 8,
   "id": "c722331f",
   "metadata": {},
   "outputs": [
    {
     "data": {
      "text/plain": [
       "<sqlite3.Cursor at 0x281ca0b2240>"
      ]
     },
     "execution_count": 8,
     "metadata": {},
     "output_type": "execute_result"
    }
   ],
   "source": [
    "cursor.execute(\"select * from pages;\")"
   ]
  },
  {
   "cell_type": "code",
   "execution_count": 9,
   "id": "9aa4dbf0",
   "metadata": {},
   "outputs": [
    {
     "name": "stdout",
     "output_type": "stream",
     "text": [
      "(1, 'page_name')\n",
      "(2, 'page_name')\n",
      "(3, 'page_name')\n",
      "(4, 'page_name')\n",
      "(5, 'page_name')\n",
      "(6, 'page_name')\n",
      "(7, 'page_name')\n",
      "(8, 'page_name')\n",
      "(9, 'page_name')\n"
     ]
    }
   ],
   "source": [
    "for i in cursor.fetchall():\n",
    "    print(i)"
   ]
  },
  {
   "cell_type": "code",
   "execution_count": 10,
   "id": "d707df7c",
   "metadata": {},
   "outputs": [
    {
     "name": "stdout",
     "output_type": "stream",
     "text": [
      "(1,)\n",
      "(2,)\n",
      "(3,)\n",
      "(4,)\n",
      "(5,)\n",
      "(6,)\n",
      "(8,)\n",
      "(10,)\n"
     ]
    }
   ],
   "source": [
    "cursor.execute(\"select distinct page_id from page_likes\")\n",
    "for i in cursor.fetchall():\n",
    "    print(i)"
   ]
  },
  {
   "cell_type": "code",
   "execution_count": null,
   "id": "1f5538cf",
   "metadata": {},
   "outputs": [],
   "source": []
  },
  {
   "cell_type": "markdown",
   "id": "e355e289",
   "metadata": {},
   "source": [
    "# Solution 1 "
   ]
  },
  {
   "cell_type": "code",
   "execution_count": 11,
   "id": "be9448b6",
   "metadata": {},
   "outputs": [
    {
     "name": "stdout",
     "output_type": "stream",
     "text": [
      "(7,)\n",
      "(9,)\n"
     ]
    }
   ],
   "source": [
    "solution = \"\"\"SELECT page_id\n",
    "FROM pages\n",
    "EXCEPT\n",
    "SELECT page_id\n",
    "FROM page_likes; \"\"\"\n",
    "\n",
    "\n",
    "cursor.execute(solution)\n",
    "for i in cursor.fetchall():\n",
    "    print(i)"
   ]
  },
  {
   "cell_type": "code",
   "execution_count": null,
   "id": "4eb9ad17",
   "metadata": {},
   "outputs": [],
   "source": []
  },
  {
   "cell_type": "markdown",
   "id": "c768c650",
   "metadata": {},
   "source": [
    "# Solution 2"
   ]
  },
  {
   "cell_type": "code",
   "execution_count": 12,
   "id": "193e9e0b",
   "metadata": {},
   "outputs": [
    {
     "name": "stdout",
     "output_type": "stream",
     "text": [
      "(7,)\n",
      "(9,)\n"
     ]
    }
   ],
   "source": [
    "solution = \"\"\"SELECT page_id\n",
    "FROM pages\n",
    "where page_id not in (SELECT page_id\n",
    "FROM page_likes)\n",
    "; \"\"\"\n",
    "\n",
    "\n",
    "cursor.execute(solution)\n",
    "for i in cursor.fetchall():\n",
    "    print(i)"
   ]
  },
  {
   "cell_type": "code",
   "execution_count": null,
   "id": "8322d620",
   "metadata": {},
   "outputs": [],
   "source": []
  },
  {
   "cell_type": "markdown",
   "id": "5987b4ff",
   "metadata": {},
   "source": [
    "# Solution 3"
   ]
  },
  {
   "cell_type": "code",
   "execution_count": 13,
   "id": "6123db4e",
   "metadata": {},
   "outputs": [
    {
     "name": "stdout",
     "output_type": "stream",
     "text": [
      "(7,)\n",
      "(9,)\n"
     ]
    }
   ],
   "source": [
    "solution = \"\"\"SELECT pages.page_id\n",
    "FROM pages left join page_likes\n",
    "on pages.page_id = page_likes.page_id\n",
    "where page_likes.page_id is null\n",
    "; \"\"\"\n",
    "\n",
    "\n",
    "cursor.execute(solution)\n",
    "for i in cursor.fetchall():\n",
    "    print(i)"
   ]
  },
  {
   "cell_type": "code",
   "execution_count": null,
   "id": "7ea67528",
   "metadata": {},
   "outputs": [],
   "source": []
  },
  {
   "cell_type": "markdown",
   "id": "8a031ee9",
   "metadata": {},
   "source": [
    "# Solution 4"
   ]
  },
  {
   "cell_type": "code",
   "execution_count": 14,
   "id": "709dc9d6",
   "metadata": {},
   "outputs": [
    {
     "name": "stdout",
     "output_type": "stream",
     "text": [
      "(7,)\n",
      "(9,)\n"
     ]
    }
   ],
   "source": [
    "solution = \"\"\"SELECT pages.page_id\n",
    "FROM pages \n",
    "where not exists (select 1 from page_likes\n",
    "                           where page_likes.page_id = pages.page_id)\n",
    "; \"\"\"\n",
    "\n",
    "\n",
    "cursor.execute(solution)\n",
    "for i in cursor.fetchall():\n",
    "    print(i)"
   ]
  },
  {
   "cell_type": "code",
   "execution_count": null,
   "id": "3aff1d27",
   "metadata": {},
   "outputs": [],
   "source": []
  },
  {
   "cell_type": "markdown",
   "id": "18566e9a",
   "metadata": {},
   "source": [
    "# Solution 4 Efficient"
   ]
  },
  {
   "cell_type": "code",
   "execution_count": 15,
   "id": "de2cb759",
   "metadata": {},
   "outputs": [
    {
     "name": "stdout",
     "output_type": "stream",
     "text": [
      "(7,)\n",
      "(9,)\n"
     ]
    }
   ],
   "source": [
    "solution = \"\"\"SELECT pages.page_id\n",
    "FROM pages \n",
    "where not exists (select 1 from page_likes\n",
    "                           where page_likes.page_id = pages.page_id\n",
    "                           limit 1)\n",
    "; \"\"\"\n",
    "\n",
    "\n",
    "cursor.execute(solution)\n",
    "for i in cursor.fetchall():\n",
    "    print(i)"
   ]
  },
  {
   "cell_type": "code",
   "execution_count": 16,
   "id": "71e46515",
   "metadata": {},
   "outputs": [],
   "source": [
    "conn.close()"
   ]
  },
  {
   "cell_type": "code",
   "execution_count": null,
   "id": "56a68bfd",
   "metadata": {},
   "outputs": [],
   "source": []
  }
 ],
 "metadata": {
  "kernelspec": {
   "display_name": "Python 3 (ipykernel)",
   "language": "python",
   "name": "python3"
  },
  "language_info": {
   "codemirror_mode": {
    "name": "ipython",
    "version": 3
   },
   "file_extension": ".py",
   "mimetype": "text/x-python",
   "name": "python",
   "nbconvert_exporter": "python",
   "pygments_lexer": "ipython3",
   "version": "3.10.9"
  }
 },
 "nbformat": 4,
 "nbformat_minor": 5
}
