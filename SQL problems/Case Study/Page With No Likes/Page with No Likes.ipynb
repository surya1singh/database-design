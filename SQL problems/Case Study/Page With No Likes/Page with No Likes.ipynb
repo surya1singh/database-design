{
 "cells": [
  {
   "cell_type": "code",
   "execution_count": 62,
   "id": "69f7970b",
   "metadata": {},
   "outputs": [],
   "source": [
    "import sqlite3\n",
    "import random"
   ]
  },
  {
   "cell_type": "code",
   "execution_count": 41,
   "id": "878cab27",
   "metadata": {},
   "outputs": [],
   "source": [
    "conn = sqlite3.connect('example.db')"
   ]
  },
  {
   "cell_type": "code",
   "execution_count": 45,
   "id": "e8157c47",
   "metadata": {},
   "outputs": [],
   "source": [
    "cursor = conn.cursor()"
   ]
  },
  {
   "cell_type": "code",
   "execution_count": 48,
   "id": "33d9e525",
   "metadata": {},
   "outputs": [],
   "source": [
    "pages_table_with_index = \"\"\"\n",
    "create table if not exists pages (\n",
    "page_id int not null primary key,\n",
    "page_name varchar(20))\n",
    "\"\"\"\n",
    "\n",
    "\n",
    "pages_table_without_index = \"\"\"\n",
    "create table if not exists pages_without_index (\n",
    "page_id int not null,\n",
    "page_name varchar(20))\n",
    "\"\"\"\n",
    "\n",
    "page_likes = \"\"\"\n",
    "create table if not exists page_likes (\n",
    "user_id int not null,\n",
    "page_id int not null\n",
    ")\"\"\"\n",
    "\n",
    "index_query = \"\"\" CREATE INDEX page_likes_page_id ON page_likes (page_id); \"\"\"\n",
    "\n",
    "\n",
    "page_likes_without_index = \"\"\"\n",
    "create table if not exists page_likes_without_index (\n",
    "user_id int not null,\n",
    "page_id int not null\n",
    ")\"\"\""
   ]
  },
  {
   "cell_type": "code",
   "execution_count": 49,
   "id": "915aafd9",
   "metadata": {},
   "outputs": [
    {
     "data": {
      "text/plain": [
       "<sqlite3.Cursor at 0x2199f1fc940>"
      ]
     },
     "execution_count": 49,
     "metadata": {},
     "output_type": "execute_result"
    }
   ],
   "source": [
    "cursor.execute(pages_table_with_index)\n",
    "cursor.execute(pages_table_without_index)\n",
    "cursor.execute(page_likes)\n",
    "cursor.execute(index_query)\n",
    "cursor.execute(page_likes_without_index)"
   ]
  },
  {
   "cell_type": "code",
   "execution_count": 51,
   "id": "9f8feb50",
   "metadata": {},
   "outputs": [],
   "source": [
    "conn.commit()"
   ]
  },
  {
   "cell_type": "code",
   "execution_count": 85,
   "id": "eafccc61",
   "metadata": {},
   "outputs": [],
   "source": [
    "for i in range(1, 10):\n",
    "    insert_pages = f\"insert into pages values ({i}, 'page_name')\"\n",
    "    cursor.execute(insert_pages)\n",
    "conn.commit()\n",
    "\n",
    "for i in range(10):\n",
    "    insert_page_likes = f\"insert into page_likes values ({random.randint(1,100)},{random.randint(1,10)})\"\n",
    "    cursor.execute(insert_page_likes)\n",
    "conn.commit()"
   ]
  },
  {
   "cell_type": "code",
   "execution_count": 87,
   "id": "7ba08c19",
   "metadata": {},
   "outputs": [
    {
     "data": {
      "text/plain": [
       "<sqlite3.Cursor at 0x2199f1fc940>"
      ]
     },
     "execution_count": 87,
     "metadata": {},
     "output_type": "execute_result"
    }
   ],
   "source": [
    "cursor.execute(\"select * from pages;\")"
   ]
  },
  {
   "cell_type": "code",
   "execution_count": 88,
   "id": "69a31b34",
   "metadata": {},
   "outputs": [
    {
     "name": "stdout",
     "output_type": "stream",
     "text": [
      "(1, 'page_name')\n",
      "(2, 'page_name')\n",
      "(3, 'page_name')\n",
      "(4, 'page_name')\n",
      "(5, 'page_name')\n",
      "(6, 'page_name')\n",
      "(7, 'page_name')\n",
      "(8, 'page_name')\n",
      "(9, 'page_name')\n"
     ]
    }
   ],
   "source": [
    "for i in cursor.fetchall():\n",
    "    print(i)"
   ]
  },
  {
   "cell_type": "code",
   "execution_count": 89,
   "id": "4a982a10",
   "metadata": {},
   "outputs": [
    {
     "name": "stdout",
     "output_type": "stream",
     "text": [
      "(1,)\n",
      "(4,)\n",
      "(5,)\n",
      "(6,)\n",
      "(7,)\n",
      "(9,)\n"
     ]
    }
   ],
   "source": [
    "cursor.execute(\"select distinct page_id from page_likes\")\n",
    "for i in cursor.fetchall():\n",
    "    print(i)"
   ]
  },
  {
   "cell_type": "code",
   "execution_count": null,
   "id": "ae2cb283",
   "metadata": {},
   "outputs": [],
   "source": []
  },
  {
   "cell_type": "markdown",
   "id": "64faada7",
   "metadata": {},
   "source": [
    "# Solution 1 "
   ]
  },
  {
   "cell_type": "code",
   "execution_count": 90,
   "id": "77dae994",
   "metadata": {},
   "outputs": [
    {
     "name": "stdout",
     "output_type": "stream",
     "text": [
      "(2,)\n",
      "(3,)\n",
      "(8,)\n"
     ]
    }
   ],
   "source": [
    "solution = \"\"\"SELECT page_id\n",
    "FROM pages\n",
    "EXCEPT\n",
    "SELECT page_id\n",
    "FROM page_likes; \"\"\"\n",
    "\n",
    "\n",
    "cursor.execute(solution)\n",
    "for i in cursor.fetchall():\n",
    "    print(i)"
   ]
  },
  {
   "cell_type": "code",
   "execution_count": null,
   "id": "a1165c1e",
   "metadata": {},
   "outputs": [],
   "source": []
  },
  {
   "cell_type": "markdown",
   "id": "e86e0222",
   "metadata": {},
   "source": [
    "# Solution 2"
   ]
  },
  {
   "cell_type": "code",
   "execution_count": 91,
   "id": "269fb8a8",
   "metadata": {},
   "outputs": [
    {
     "name": "stdout",
     "output_type": "stream",
     "text": [
      "(2,)\n",
      "(3,)\n",
      "(8,)\n"
     ]
    }
   ],
   "source": [
    "solution = \"\"\"SELECT page_id\n",
    "FROM pages\n",
    "where page_id not in (SELECT page_id\n",
    "FROM page_likes)\n",
    "; \"\"\"\n",
    "\n",
    "\n",
    "cursor.execute(solution)\n",
    "for i in cursor.fetchall():\n",
    "    print(i)"
   ]
  },
  {
   "cell_type": "code",
   "execution_count": null,
   "id": "c5de69eb",
   "metadata": {},
   "outputs": [],
   "source": []
  },
  {
   "cell_type": "markdown",
   "id": "b9801264",
   "metadata": {},
   "source": [
    "# Solution 3"
   ]
  },
  {
   "cell_type": "code",
   "execution_count": 95,
   "id": "ad131614",
   "metadata": {},
   "outputs": [
    {
     "name": "stdout",
     "output_type": "stream",
     "text": [
      "(2,)\n",
      "(3,)\n",
      "(8,)\n"
     ]
    }
   ],
   "source": [
    "solution = \"\"\"SELECT pages.page_id\n",
    "FROM pages left join page_likes\n",
    "on pages.page_id = page_likes.page_id\n",
    "where page_likes.page_id is null\n",
    "; \"\"\"\n",
    "\n",
    "\n",
    "cursor.execute(solution)\n",
    "for i in cursor.fetchall():\n",
    "    print(i)"
   ]
  },
  {
   "cell_type": "code",
   "execution_count": null,
   "id": "ea9a4fc0",
   "metadata": {},
   "outputs": [],
   "source": []
  },
  {
   "cell_type": "markdown",
   "id": "a0cff720",
   "metadata": {},
   "source": [
    "# Solution 4"
   ]
  },
  {
   "cell_type": "code",
   "execution_count": 96,
   "id": "3c779821",
   "metadata": {},
   "outputs": [
    {
     "name": "stdout",
     "output_type": "stream",
     "text": [
      "(2,)\n",
      "(3,)\n",
      "(8,)\n"
     ]
    }
   ],
   "source": [
    "solution = \"\"\"SELECT pages.page_id\n",
    "FROM pages \n",
    "where not exists (select 1 from page_likes\n",
    "                           where page_likes.page_id = pages.page_id)\n",
    "; \"\"\"\n",
    "\n",
    "\n",
    "cursor.execute(solution)\n",
    "for i in cursor.fetchall():\n",
    "    print(i)"
   ]
  },
  {
   "cell_type": "code",
   "execution_count": null,
   "id": "97e5bd11",
   "metadata": {},
   "outputs": [],
   "source": []
  },
  {
   "cell_type": "markdown",
   "id": "085b982e",
   "metadata": {},
   "source": [
    "# Solution 4 Efficient"
   ]
  },
  {
   "cell_type": "code",
   "execution_count": 97,
   "id": "52d961ba",
   "metadata": {},
   "outputs": [
    {
     "name": "stdout",
     "output_type": "stream",
     "text": [
      "(2,)\n",
      "(3,)\n",
      "(8,)\n"
     ]
    }
   ],
   "source": [
    "solution = \"\"\"SELECT pages.page_id\n",
    "FROM pages \n",
    "where not exists (select 1 from page_likes\n",
    "                           where page_likes.page_id = pages.page_id\n",
    "                           limit 1)\n",
    "; \"\"\"\n",
    "\n",
    "\n",
    "cursor.execute(solution)\n",
    "for i in cursor.fetchall():\n",
    "    print(i)"
   ]
  },
  {
   "cell_type": "code",
   "execution_count": 98,
   "id": "be391a93",
   "metadata": {},
   "outputs": [],
   "source": [
    "conn.close()"
   ]
  },
  {
   "cell_type": "code",
   "execution_count": null,
   "id": "adba82ad",
   "metadata": {},
   "outputs": [],
   "source": []
  }
 ],
 "metadata": {
  "kernelspec": {
   "display_name": "Python 3 (ipykernel)",
   "language": "python",
   "name": "python3"
  },
  "language_info": {
   "codemirror_mode": {
    "name": "ipython",
    "version": 3
   },
   "file_extension": ".py",
   "mimetype": "text/x-python",
   "name": "python",
   "nbconvert_exporter": "python",
   "pygments_lexer": "ipython3",
   "version": "3.10.9"
  }
 },
 "nbformat": 4,
 "nbformat_minor": 5
}
